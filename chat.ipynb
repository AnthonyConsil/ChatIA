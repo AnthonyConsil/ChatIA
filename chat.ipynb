{
 "cells": [
  {
   "cell_type": "code",
   "execution_count": 14,
   "metadata": {},
   "outputs": [],
   "source": [
    "import flet as ft"
   ]
  },
  {
   "cell_type": "code",
   "execution_count": 15,
   "metadata": {},
   "outputs": [],
   "source": [
    "class Message():\n",
    "    def __init__(self, user: str, text: str, message_type: str):\n",
    "        self.user = user\n",
    "        self.text = text\n",
    "        self.message_type = message_type\n",
    "\n",
    "def main(page: ft.Page):\n",
    "    user_name = ft.TextField(label=\"Enter your name\")\n",
    "    chat = ft.Column()\n",
    "    new_message = ft.TextField()\n",
    "\n",
    "    def on_message(message: Message):\n",
    "        if message.message_type == \"chat_message\":\n",
    "            chat.controls.append(ft.Text(f\"{message.user}: {message.text}\"))\n",
    "        elif message.message_type == \"login_message\":\n",
    "            chat.controls.append(\n",
    "                ft.Text(message.text, italic=True, color=ft.colors.PINK_50, size=12)\n",
    "            )\n",
    "        page.update()\n",
    "    page.pubsub.subscribe(on_message)\n",
    "\n",
    "    def join_click(e):\n",
    "        if not user_name.value:\n",
    "            user_name.error_text = \"Name cannot be black!\"\n",
    "            user_name.update()\n",
    "        else:\n",
    "            page.session.set(\"user_name\", user_name.value)\n",
    "            page.dialog.open = False\n",
    "            page.pubsub.send_all(Message(user=user_name.value, text=f\"{user_name.value} has joined the chat.\", message_type=\"login_message\"))\n",
    "            page.update()\n",
    "\n",
    "    def send_click(e):\n",
    "        if new_message.value:\n",
    "            if page.session.get(\"user_name\"):\n",
    "                page.pubsub.send_all(Message(user=page.session.get('user_name'), text=new_message.value, message_type=\"chat_message\"))\n",
    "                new_message.value = \"\"\n",
    "            page.update()\n",
    "\n",
    "    page.add(chat, ft.Row([new_message, ft.ElevatedButton(\"Send\", on_click=send_click)]))\n",
    "\n",
    "    page.dialog = ft.AlertDialog(\n",
    "        open=True,\n",
    "        modal=True,\n",
    "        title=ft.Text(\"Welcome!\"),\n",
    "        content=ft.Column([user_name], tight=True),\n",
    "        actions=[ft.ElevatedButton(text=\"Join chat\", on_click=join_click)],\n",
    "        actions_alignment=\"end\",\n",
    "    )"
   ]
  },
  {
   "cell_type": "code",
   "execution_count": 16,
   "metadata": {},
   "outputs": [],
   "source": [
    "ft.app(name=\"supachat\", target=main, view=ft.WEB_BROWSER)"
   ]
  }
 ],
 "metadata": {
  "kernelspec": {
   "display_name": "Chat_IA-QY0V_W8h",
   "language": "python",
   "name": "python3"
  },
  "language_info": {
   "codemirror_mode": {
    "name": "ipython",
    "version": 3
   },
   "file_extension": ".py",
   "mimetype": "text/x-python",
   "name": "python",
   "nbconvert_exporter": "python",
   "pygments_lexer": "ipython3",
   "version": "3.10.12"
  },
  "orig_nbformat": 4
 },
 "nbformat": 4,
 "nbformat_minor": 2
}
